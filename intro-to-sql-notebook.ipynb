{
    "metadata": {
        "kernelspec": {
            "name": "SQL",
            "display_name": "SQL",
            "language": "sql"
        },
        "language_info": {
            "name": "sql",
            "version": ""
        }
    },
    "nbformat_minor": 2,
    "nbformat": 4,
    "cells": [
        {
            "cell_type": "markdown",
            "source": [
                "# Basic SQL Select Command"
            ],
            "metadata": {
                "language": "sql",
                "azdata_cell_guid": "4bd2b5c9-658d-49f3-b108-9abd1f793fc3"
            },
            "attachments": {}
        },
        {
            "cell_type": "code",
            "source": [
                "SELECT movie_title, genre, mpaa_rating\r\n",
                "FROM movie_gross\r\n",
                "WHERE genre='Musical'\r\n",
                "ORDER BY release_date;"
            ],
            "metadata": {
                "azdata_cell_guid": "6154b0f2-8ee3-4061-aaed-f10e79e65040",
                "language": "sql"
            },
            "outputs": [
                {
                    "output_type": "display_data",
                    "data": {
                        "text/html": "(16 row(s) affected)"
                    },
                    "metadata": {}
                },
                {
                    "output_type": "display_data",
                    "data": {
                        "text/html": "Total execution time: 00:00:00.018"
                    },
                    "metadata": {}
                },
                {
                    "output_type": "execute_result",
                    "execution_count": 8,
                    "data": {
                        "application/vnd.dataresource+json": {
                            "schema": {
                                "fields": [
                                    {
                                        "name": "movie_title"
                                    },
                                    {
                                        "name": "genre"
                                    },
                                    {
                                        "name": "mpaa_rating"
                                    }
                                ]
                            },
                            "data": [
                                {
                                    "0": "Snow White and the Seven Dwarfs",
                                    "1": "Musical",
                                    "2": "G"
                                },
                                {
                                    "0": "Fantasia",
                                    "1": "Musical",
                                    "2": "G"
                                },
                                {
                                    "0": "Babes in Toyland",
                                    "1": "Musical",
                                    "2": "G"
                                },
                                {
                                    "0": "The Jungle Book",
                                    "1": "Musical",
                                    "2": "Not Rated"
                                },
                                {
                                    "0": "The Aristocats",
                                    "1": "Musical",
                                    "2": "G"
                                },
                                {
                                    "0": "Bedknobs and Broomsticks",
                                    "1": "Musical",
                                    "2": "NULL"
                                },
                                {
                                    "0": "Beauty and the Beast",
                                    "1": "Musical",
                                    "2": "G"
                                },
                                {
                                    "0": "Swing Kids",
                                    "1": "Musical",
                                    "2": "PG-13"
                                },
                                {
                                    "0": "The Nightmare Before Christmas",
                                    "1": "Musical",
                                    "2": "PG"
                                },
                                {
                                    "0": "Evita",
                                    "1": "Musical",
                                    "2": "PG"
                                },
                                {
                                    "0": "Fantasia 2000 (IMAX)",
                                    "1": "Musical",
                                    "2": "G"
                                },
                                {
                                    "0": "Fantasia 2000 (Theatrical Release)",
                                    "1": "Musical",
                                    "2": "G"
                                },
                                {
                                    "0": "Beauty and the Beast (IMAX)",
                                    "1": "Musical",
                                    "2": "G"
                                },
                                {
                                    "0": "Tim Burton's The Nightmare Before Chr…",
                                    "1": "Musical",
                                    "2": "PG"
                                },
                                {
                                    "0": "High School Musical 3: Senior Year",
                                    "1": "Musical",
                                    "2": "G"
                                },
                                {
                                    "0": "Into the Woods",
                                    "1": "Musical",
                                    "2": "PG"
                                }
                            ]
                        },
                        "text/html": "<table><tr><th>movie_title</th><th>genre</th><th>mpaa_rating</th></tr><tr><td>Snow White and the Seven Dwarfs</td><td>Musical</td><td>G</td></tr><tr><td>Fantasia</td><td>Musical</td><td>G</td></tr><tr><td>Babes in Toyland</td><td>Musical</td><td>G</td></tr><tr><td>The Jungle Book</td><td>Musical</td><td>Not Rated</td></tr><tr><td>The Aristocats</td><td>Musical</td><td>G</td></tr><tr><td>Bedknobs and Broomsticks</td><td>Musical</td><td>NULL</td></tr><tr><td>Beauty and the Beast</td><td>Musical</td><td>G</td></tr><tr><td>Swing Kids</td><td>Musical</td><td>PG-13</td></tr><tr><td>The Nightmare Before Christmas</td><td>Musical</td><td>PG</td></tr><tr><td>Evita</td><td>Musical</td><td>PG</td></tr><tr><td>Fantasia 2000 (IMAX)</td><td>Musical</td><td>G</td></tr><tr><td>Fantasia 2000 (Theatrical Release)</td><td>Musical</td><td>G</td></tr><tr><td>Beauty and the Beast (IMAX)</td><td>Musical</td><td>G</td></tr><tr><td>Tim Burton's The Nightmare Before Chr…</td><td>Musical</td><td>PG</td></tr><tr><td>High School Musical 3: Senior Year</td><td>Musical</td><td>G</td></tr><tr><td>Into the Woods</td><td>Musical</td><td>PG</td></tr></table>"
                    },
                    "metadata": {}
                }
            ],
            "execution_count": 8
        }
    ]
}